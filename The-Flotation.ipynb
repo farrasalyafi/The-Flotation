{
 "cells": [
  {
   "cell_type": "code",
   "execution_count": null,
   "metadata": {
    "_cell_guid": "798dcd5e-8ba4-491a-a5a7-dfbb2660c2bd",
    "_uuid": "9f842160-a3b7-4168-9a16-d535949cb91d"
   },
   "outputs": [],
   "source": [
    "# This Python 3 environment comes with many helpful analytics libraries installed\n",
    "# It is defined by the kaggle/python docker image: https://github.com/kaggle/docker-python\n",
    "# For example, here's several helpful packages to load in \n",
    "\n",
    "import numpy as np # linear algebra\n",
    "import pandas as pd # data processing, CSV file I/O (e.g. pd.read_csv)\n",
    "\n",
    "# Input data files are available in the \"../input/\" directory.\n",
    "# For example, running this (by clicking run or pressing Shift+Enter) will list all files under the input directory\n",
    "\n",
    "import os\n",
    "for dirname, _, filenames in os.walk('/kaggle/input'):\n",
    "    for filename in filenames:\n",
    "        print(os.path.join(dirname, filename))\n",
    "\n",
    "# Any results you write to the current directory are saved as output."
   ]
  },
  {
   "cell_type": "markdown",
   "metadata": {
    "_cell_guid": "71e3ad38-57d0-481b-9327-ee13f3f14698",
    "_uuid": "c4489979-cf5f-41e8-9843-0907fad91fde"
   },
   "source": [
    "# **------------------------- THE CONTEXT ----------------------------------------**\n",
    "\n",
    "Before we begin our project, we have to understand the data and the problem, what is the problem that we want to solve? is the data ready to process or we have to clean it? and so on. So let's break it down:\n",
    "\n",
    "**The Data**\n",
    "\n",
    "The data came from The Flotation Plant. The data have several columns,the first column is date, the second and third columns are quality measures of the iron ore pulp right before it is fed into the flotation plant. Column 4 until column 8 are the most important variables that impact in the ore quality in the end of the process. From column 9 until column 22, we can see process data (level and air flow inside the flotation columns, which also impact in ore quality. The last two columns are the final iron ore pulp quality measurement from the lab. \n",
    "\n",
    "**The Problem**\n",
    "1. The aim is to predict the % Silica in Concentrate ever minute\n",
    "2. can we predict % Silica in Concentrate without using % Iron Concentrate?\n",
    "\n",
    "**The Steps**\n",
    "1. Data Preprocessing\n",
    "2. Modelling \n",
    "3. Evaluating\n",
    "4. Tunning Model"
   ]
  },
  {
   "cell_type": "markdown",
   "metadata": {
    "_cell_guid": "dd40a2b9-2792-47f0-be2a-e1258c900d2a",
    "_uuid": "46c3de25-4566-476f-9eb6-5c769c78dac3"
   },
   "source": [
    "# 1. Data Preprocessing"
   ]
  },
  {
   "cell_type": "code",
   "execution_count": null,
   "metadata": {
    "_cell_guid": "ab5aa91b-8ca8-4388-a58e-388a33741edc",
    "_uuid": "79a52257-778d-49d6-b5ea-615e69e024fd"
   },
   "outputs": [],
   "source": [
    "#Importing all libraries \n",
    "import pandas as pd\n",
    "import numpy as np\n",
    "import matplotlib.pyplot as plt\n",
    "import seaborn as sns"
   ]
  },
  {
   "cell_type": "code",
   "execution_count": null,
   "metadata": {
    "_cell_guid": "96f088f8-0846-4736-9b56-7c9bab6466b3",
    "_uuid": "e781f143-0f30-46cf-a43a-8b4c1c9281c7"
   },
   "outputs": [],
   "source": [
    "# Load the data, so we have to convert the date column into date \n",
    "# and we have to drop the duplicates entries/row using code below\n",
    "\n",
    "data =  pd.read_csv('../input/quality-prediction-in-a-mining-process/MiningProcess_Flotation_Plant_Database.csv',\n",
    "                   decimal=\",\",\n",
    "                    parse_dates=[\"date\"],\n",
    "                    infer_datetime_format=True).drop_duplicates()\n",
    "data.info()"
   ]
  },
  {
   "cell_type": "code",
   "execution_count": null,
   "metadata": {
    "_cell_guid": "80432273-8319-4705-923d-6894486cf868",
    "_uuid": "2083cd21-aae0-440e-a83d-e09597af805a"
   },
   "outputs": [],
   "source": [
    "#Check the shape of data (row and column)\n",
    "data.shape"
   ]
  },
  {
   "cell_type": "code",
   "execution_count": null,
   "metadata": {
    "_cell_guid": "8f4daee9-2251-4f47-a1fe-27c21482bf6e",
    "_uuid": "f0d7b331-7664-4de9-9b89-e93186951f48"
   },
   "outputs": [],
   "source": [
    "#check the data if there any missing value or not\n",
    "data.isnull().sum()"
   ]
  },
  {
   "cell_type": "code",
   "execution_count": null,
   "metadata": {
    "_cell_guid": "3673ded4-7439-441f-a53d-e0d51c6fdfc5",
    "_uuid": "bd1f2a5a-4c57-4dd7-9471-f621149ada19"
   },
   "outputs": [],
   "source": [
    "#Display the data, and observe what kind of the data is this\n",
    "data.head()"
   ]
  },
  {
   "cell_type": "code",
   "execution_count": null,
   "metadata": {
    "_cell_guid": "1083fd85-adac-4e3d-9522-0202f93b2f61",
    "_uuid": "c8a9883e-a350-48ff-ae38-054e8959107f"
   },
   "outputs": [],
   "source": [
    "#We use heatmap to visualize the corealtion between each features\n",
    "\n",
    "plt.figure(figsize=(30, 30))\n",
    "cor= data.corr()\n",
    "corelation = sns.heatmap(cor, annot=True, cmap=\"RdYlGn\")"
   ]
  },
  {
   "cell_type": "code",
   "execution_count": null,
   "metadata": {
    "_cell_guid": "b4233f88-b7e4-4022-831c-7021bae7d5fa",
    "_uuid": "2456c7dd-3ae4-463e-9851-d15d3cbb2bca"
   },
   "outputs": [],
   "source": [
    "#Drop data that there are no significant corelation on dependent feature\n",
    "#Make Correlation with output variable\n",
    "cor_target = abs(cor[\"% Silica Concentrate\"])\n",
    "\n",
    "#Selecting highly correlated features\n",
    "relevant_features = cor_target[cor_target>0.15]\n",
    "relevant_features"
   ]
  },
  {
   "cell_type": "code",
   "execution_count": null,
   "metadata": {
    "_cell_guid": "c3f4245e-6106-4cdb-afdc-6932f08104ef",
    "_uuid": "019f0359-5ade-4aac-abc9-d3ad6caaff80"
   },
   "outputs": [],
   "source": [
    "#We pick the 2 biggest corelation exclude target\n",
    "relevant_features = relevant_features.nlargest(n=3)"
   ]
  },
  {
   "cell_type": "code",
   "execution_count": null,
   "metadata": {
    "_cell_guid": "c845c42a-e9e8-4a40-91a5-45d3421cd91e",
    "_uuid": "67010730-d18e-4325-9df7-003baaa7d120"
   },
   "outputs": [],
   "source": [
    "#Make a data from the relevant features\n",
    "data = pd.DataFrame(data, columns=relevant_features.index)\n",
    "data.head()"
   ]
  },
  {
   "cell_type": "code",
   "execution_count": null,
   "metadata": {
    "_cell_guid": "e60d3936-ae8f-491e-a47b-5c2787d504e9",
    "_uuid": "8d6b55e9-5a4a-4a48-807a-c723c31e8d12"
   },
   "outputs": [],
   "source": [
    "#Checking The Outlier in our data\n",
    "sns.boxplot(data['Flotation Column 01 Air Flow'])"
   ]
  },
  {
   "cell_type": "code",
   "execution_count": null,
   "metadata": {
    "_cell_guid": "15b1b66b-53f3-4695-ac0e-c446337955b6",
    "_uuid": "04d32bc2-79ce-48e4-9e12-a4018e13e525"
   },
   "outputs": [],
   "source": [
    "#Checking The Outlier in our data\n",
    "sns.boxplot(data['% Iron Concentrate'])"
   ]
  },
  {
   "cell_type": "code",
   "execution_count": null,
   "metadata": {
    "_cell_guid": "f9b4ca45-1daf-4cc5-abd6-465cfb243873",
    "_uuid": "b1d3cd0a-d3a9-4886-a6f7-4692af573daf"
   },
   "outputs": [],
   "source": [
    "#Checking The Outlier in our data\n",
    "sns.boxplot(data['% Silica Concentrate'])"
   ]
  },
  {
   "cell_type": "code",
   "execution_count": null,
   "metadata": {},
   "outputs": [],
   "source": [
    "#Dropping the outlier with Percentiles\n",
    "for i in data:\n",
    "    upper_lim = data[i].quantile(.95)\n",
    "    lower_lim = data[i].quantile(.05)\n",
    "\n",
    "    data = data[(data[i] < upper_lim) & (data[i] > lower_lim)]"
   ]
  },
  {
   "cell_type": "code",
   "execution_count": null,
   "metadata": {
    "_cell_guid": "ab9160e8-544d-4aa1-8269-7b048f8c4fdc",
    "_uuid": "75dc5df9-4ed1-4154-bad5-c376102a99a3"
   },
   "outputs": [],
   "source": [
    "# Before we split into train and test data, as we can see, the data have differents in units and magnitude\n",
    "# So to make it at the same magnitude we can scaling the data\n",
    "\n",
    "y = data['% Silica Concentrate']\n",
    "X = data.drop(['% Silica Concentrate'], axis=1)\n",
    "\n",
    "from sklearn.preprocessing import StandardScaler\n",
    "scaler = StandardScaler()\n",
    "\n",
    "X_scaled = pd.DataFrame(scaler.fit_transform(X), columns=X.columns)"
   ]
  },
  {
   "cell_type": "code",
   "execution_count": null,
   "metadata": {
    "_cell_guid": "95f48df3-f64e-447f-9f87-f33dba8b08fa",
    "_uuid": "9797c91b-dc06-4bd2-aac9-5c269c8d7ccf"
   },
   "outputs": [],
   "source": [
    "# After we scaled the data, and the data have the same magnitude\n",
    "# we can split the data into Train & Test\n",
    "\n",
    "from sklearn.model_selection import train_test_split\n",
    "\n",
    "X_train, X_test, y_train, y_test = train_test_split(X_scaled,\n",
    "                                                    y,\n",
    "                                                    test_size=0.3,\n",
    "                                                   random_state=30)"
   ]
  },
  {
   "cell_type": "markdown",
   "metadata": {
    "_cell_guid": "af926587-9cf9-420f-9d95-7ca9e1097084",
    "_uuid": "6a072e2b-4a36-4506-8091-399b0f8c28b8"
   },
   "source": [
    "# 2. Modelling"
   ]
  },
  {
   "cell_type": "markdown",
   "metadata": {},
   "source": [
    "**Linear Regression**"
   ]
  },
  {
   "cell_type": "code",
   "execution_count": null,
   "metadata": {
    "_cell_guid": "d3ef7588-b3aa-475e-b993-9d6615638bdc",
    "_uuid": "8a8e3172-0299-43e3-9654-9e64bd9a117c"
   },
   "outputs": [],
   "source": [
    "from sklearn.linear_model import LinearRegression\n",
    "\n",
    "lin_reg = LinearRegression()\n",
    "lin_reg.fit(X_train, y_train)\n",
    "\n",
    "y_pred_linreg = lin_reg.predict(X_test)"
   ]
  },
  {
   "cell_type": "markdown",
   "metadata": {},
   "source": [
    "**Ridge Regression**"
   ]
  },
  {
   "cell_type": "code",
   "execution_count": null,
   "metadata": {},
   "outputs": [],
   "source": [
    "from sklearn.linear_model import Ridge\n",
    "from sklearn.model_selection import GridSearchCV\n",
    "\n",
    "ridge=Ridge()\n",
    "parameters={'alpha':[1e-15,1e-10,1e-8,1e-3,1e-2,1,5,10,20,30,35,40,45,50,55,100]}\n",
    "ridge_regressor=GridSearchCV(ridge,parameters,scoring='neg_mean_squared_error',cv=5)\n",
    "ridge_regressor.fit(X_train,y_train)\n",
    "y_pred_ridge = ridge_regressor.predict(X_test)"
   ]
  },
  {
   "cell_type": "markdown",
   "metadata": {},
   "source": [
    "**Lasso Regression**"
   ]
  },
  {
   "cell_type": "code",
   "execution_count": null,
   "metadata": {},
   "outputs": [],
   "source": [
    "from sklearn.linear_model import Lasso\n",
    "\n",
    "lasso=Lasso()\n",
    "parameters={'alpha':[1e-15,1e-10,1e-8,1e-3,1e-2,1,5,10,20,30,35,40,45,50,55,100]}\n",
    "lasso_regressor=GridSearchCV(lasso,parameters,scoring='neg_mean_squared_error',cv=5)\n",
    "\n",
    "lasso_regressor.fit(X_train,y_train)\n",
    "y_pred_lasso = lasso_regressor.predict(X_test)"
   ]
  },
  {
   "cell_type": "markdown",
   "metadata": {},
   "source": [
    "**XGBoost**"
   ]
  },
  {
   "cell_type": "code",
   "execution_count": null,
   "metadata": {},
   "outputs": [],
   "source": [
    "import xgboost as xgb\n",
    "xgb = xgb.XGBRegressor(objective=\"reg:linear\", random_state=42)\n",
    "xgb.fit(X_train, y_train)\n",
    "y_pred_xgb = xgb.predict(X_test)"
   ]
  },
  {
   "cell_type": "markdown",
   "metadata": {},
   "source": [
    "# 3. Evaluation"
   ]
  },
  {
   "cell_type": "code",
   "execution_count": null,
   "metadata": {},
   "outputs": [],
   "source": [
    "from sklearn.metrics import mean_squared_error\n",
    "from sklearn.metrics import mean_absolute_error\n",
    "from sklearn.metrics import r2_score\n",
    "\n",
    "#LINEAR REGRESSION\n",
    "MSE = mean_squared_error(y_test, y_pred_linreg)\n",
    "print('Our Linear Regression mean squared error is: ',MSE)\n",
    "MAE = mean_absolute_error(y_test, y_pred_linreg)\n",
    "print('Our Linear Regression mean absolute error is: ',MAE)\n",
    "R2 = r2_score(y_test, y_pred_linreg) \n",
    "print('Our Linear Regression R2 score is: ', R2)\n",
    "print('Our Linear Regreesion Root Mean Squared Error is:', np.sqrt(mean_squared_error(y_test, y_pred_linreg)))\n",
    "print('-'*100)\n",
    "print('-'*100)\n",
    "#RIDGE REGRESSION\n",
    "MSE = mean_squared_error(y_test, y_pred_ridge)\n",
    "print('Our Rdige Regression mean squared error is: ',MSE)\n",
    "MAE = mean_absolute_error(y_test, y_pred_ridge)\n",
    "print('Our Ridge Regression mean absolute error is: ',MAE)\n",
    "R2 = r2_score(y_test, y_pred_ridge) \n",
    "print('Our Ridge Regression R2 score is: ', R2)\n",
    "print('Our Ridge Regression Root Mean Squared Error is:', np.sqrt(mean_squared_error(y_test, y_pred_ridge)))\n",
    "print('-'*100)\n",
    "print('-'*100)\n",
    "#LASSO REGRESSION\n",
    "MSE = mean_squared_error(y_test, y_pred_lasso)\n",
    "print('Our Lasso Regression mean squared error is: ',MSE)\n",
    "MAE = mean_absolute_error(y_test, y_pred_lasso)\n",
    "print('Our Lasso Regression mean absolute error is: ',MAE)\n",
    "R2 = r2_score(y_test, y_pred_lasso) \n",
    "print('Our Lasso Regression R2 score is: ', R2)\n",
    "print('Our Lasso Regression Root Mean Squared Error is:', np.sqrt(mean_squared_error(y_test, y_pred_lasso)))\n",
    "print('-'*100)\n",
    "print('-'*100)\n",
    "#XGBOOST\n",
    "MSE = mean_squared_error(y_test, y_pred_xgb)\n",
    "print('Our XGBoost mean squared error is: ',MSE)\n",
    "MAE = mean_absolute_error(y_test, y_pred_xgb)\n",
    "print('Our XGBoost mean absolute error is: ',MAE)\n",
    "R2 = r2_score(y_test, y_pred_xgb) \n",
    "print('Our XGBoost R2 score is: ', R2)\n",
    "print('Our XGBoost Root Mean Squared Error is:', np.sqrt(mean_squared_error(y_test, y_pred_xgb)))"
   ]
  },
  {
   "cell_type": "code",
   "execution_count": null,
   "metadata": {
    "_cell_guid": "d3bed3f2-ad7c-49ac-8174-c059aff68e61",
    "_uuid": "b925931f-cffd-4290-a911-3a57e6f50bdd"
   },
   "outputs": [],
   "source": [
    "#Cecking Multicolinearity\n",
    "from statsmodels.stats.outliers_influence import variance_inflation_factor\n",
    "\n",
    "vif = [variance_inflation_factor(X_train.values, i) for i in range(X_train.shape[1])]\n",
    "pd.DataFrame({'vif': vif[0:]}, index=X_train.columns).T"
   ]
  },
  {
   "cell_type": "code",
   "execution_count": null,
   "metadata": {},
   "outputs": [],
   "source": [
    "#Checking Normality\n",
    "residual = y_test - y_pred_xgb\n",
    "sns.distplot(residual)"
   ]
  },
  {
   "cell_type": "code",
   "execution_count": null,
   "metadata": {},
   "outputs": [],
   "source": [
    "#Checking Normality\n",
    "import scipy as sp\n",
    "fig, ax = plt.subplots(figsize=(6,2.5))\n",
    "_, (__, ___, r) = sp.stats.probplot(residual, plot=ax, fit=True)"
   ]
  },
  {
   "cell_type": "code",
   "execution_count": null,
   "metadata": {},
   "outputs": [],
   "source": [
    "#Checking Homoscedacity\n",
    "sns.scatterplot(y_pred_xgb, residual)\n",
    "plt.hlines(y=0, xmin= 1, xmax=5)\n",
    "plt.xlabel('Residual')\n",
    "plt.ylabel('Prediksi')\n",
    "plt.title('Residual Plot')"
   ]
  },
  {
   "cell_type": "markdown",
   "metadata": {},
   "source": [
    "# 4. Tunning Model"
   ]
  },
  {
   "cell_type": "code",
   "execution_count": null,
   "metadata": {},
   "outputs": [],
   "source": [
    "# Hyper Parameter Tunning\n",
    "from sklearn.model_selection import RandomizedSearchCV\n",
    "\n",
    "params={\n",
    " \"learning_rate\"    : [0.01, 0.05, 0.10, 0.15, 0.20, 0.25, 0.30 ] ,\n",
    " \"max_depth\"        : [ 3, 4, 5, 6, 8, 10, 12, 15],\n",
    " \"min_child_weight\" : [ 1, 3, 5, 7 ],\n",
    " \"gamma\"            : [ 0.0, 0.1, 0.2 , 0.3, 0.4 ],\n",
    " \"colsample_bytree\" : [ 0.3, 0.4, 0.5 , 0.7, 0.9, 1.0 ]\n",
    "    \n",
    "}"
   ]
  },
  {
   "cell_type": "code",
   "execution_count": null,
   "metadata": {},
   "outputs": [],
   "source": [
    "#Using Randomized Search CV to look the best parameter\n",
    "random_search= RandomizedSearchCV(estimator=xgb,\n",
    "                                param_distributions=params,\n",
    "                                cv=5, n_iter=50,\n",
    "                                scoring = 'r2',n_jobs = 4,\n",
    "                                verbose = 1, \n",
    "                                return_train_score = True,\n",
    "                                random_state=42)"
   ]
  },
  {
   "cell_type": "code",
   "execution_count": null,
   "metadata": {},
   "outputs": [],
   "source": [
    "#Train Hyperparameter into our Data\n",
    "random_search.fit(X_train, y_train)"
   ]
  },
  {
   "cell_type": "code",
   "execution_count": null,
   "metadata": {},
   "outputs": [],
   "source": [
    "#Ceck the best estimator\n",
    "random_search.best_estimator_"
   ]
  },
  {
   "cell_type": "code",
   "execution_count": null,
   "metadata": {},
   "outputs": [],
   "source": [
    "#Using the best hyperparameter into our model\n",
    "import xgboost as xgb\n",
    "xgb = xgb.XGBRegressor(base_score=0.5, booster=None, colsample_bylevel=1,\n",
    "             colsample_bynode=1, colsample_bytree=1.0, gamma=0.2, gpu_id=-1,\n",
    "             importance_type='gain', interaction_constraints=None,\n",
    "             learning_rate=0.25, max_delta_step=0, max_depth=10,\n",
    "             min_child_weight=7, monotone_constraints=None,\n",
    "             n_estimators=100, n_jobs=0, num_parallel_tree=1,\n",
    "             objective='reg:linear', random_state=42, reg_alpha=0, reg_lambda=1,\n",
    "             scale_pos_weight=1, subsample=1, tree_method=None,\n",
    "             validate_parameters=False, verbosity=None)\n",
    "xgb.fit(X_train, y_train)\n",
    "y_pred_xgb_tunning = xgb.predict(X_test)"
   ]
  },
  {
   "cell_type": "code",
   "execution_count": null,
   "metadata": {},
   "outputs": [],
   "source": [
    "#Check Metrics after tunning\n",
    "MSE = mean_squared_error(y_test, y_pred_xgb_tunning)\n",
    "print('Our XGBoost after tunning mean squared error is: ',MSE)\n",
    "MAE = mean_absolute_error(y_test, y_pred_xgb_tunning)\n",
    "print('Our XGBoost after tunning mean absolute error is: ',MAE)\n",
    "R2 = r2_score(y_test, y_pred_xgb_tunning) \n",
    "print('Our XGBoost after tunning R2 score is: ', R2)\n",
    "print('Our XGBoost after tunning Root Mean Squared Error is:', np.sqrt(mean_squared_error(y_test, y_pred_xgb_tunning)))"
   ]
  },
  {
   "cell_type": "code",
   "execution_count": null,
   "metadata": {},
   "outputs": [],
   "source": [
    "#Visualize The Actual Data and our Prediction\n",
    "result = pd.DataFrame({'Actual': y_test, 'Predicted': y_pred_xgb_tunning})\n",
    "result.head(20)"
   ]
  },
  {
   "cell_type": "code",
   "execution_count": null,
   "metadata": {},
   "outputs": [],
   "source": [
    "#Visualize using scatter plot\n",
    "fig = plt.figure(figsize=(20, 10))\n",
    "ax = fig.add_subplot(111)\n",
    "ax.set(title=\"XG Boost Tunning\", xlabel=\"Aktual\", ylabel=\"Prediksi\")\n",
    "ax.scatter(y_test, y_pred_xgb_tunning)\n",
    "ax.plot([0,max(y_test)], [0,max(y_pred_xgb_tunning)], color='r')\n",
    "fig.show()"
   ]
  }
 ],
 "metadata": {
  "kernelspec": {
   "display_name": "Python 3",
   "language": "python",
   "name": "python3"
  },
  "language_info": {
   "codemirror_mode": {
    "name": "ipython",
    "version": 3
   },
   "file_extension": ".py",
   "mimetype": "text/x-python",
   "name": "python",
   "nbconvert_exporter": "python",
   "pygments_lexer": "ipython3",
   "version": "3.7.6"
  }
 },
 "nbformat": 4,
 "nbformat_minor": 4
}
